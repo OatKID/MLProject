{
 "cells": [
  {
   "cell_type": "code",
   "execution_count": 39,
   "metadata": {},
   "outputs": [],
   "source": [
    "import numpy as np\n",
    "import pandas as pd\n",
    "import matplotlib.pyplot as plt\n",
    "# from sklearn.model_selection import train_test_split"
   ]
  },
  {
   "cell_type": "code",
   "execution_count": 40,
   "metadata": {},
   "outputs": [
    {
     "name": "stdout",
     "output_type": "stream",
     "text": [
      "<class 'pandas.core.frame.DataFrame'>\n",
      "RangeIndex: 1025 entries, 0 to 1024\n",
      "Data columns (total 14 columns):\n",
      " #   Column    Non-Null Count  Dtype  \n",
      "---  ------    --------------  -----  \n",
      " 0   age       1025 non-null   int64  \n",
      " 1   sex       1025 non-null   int64  \n",
      " 2   cp        1025 non-null   int64  \n",
      " 3   trestbps  1025 non-null   int64  \n",
      " 4   chol      1025 non-null   int64  \n",
      " 5   fbs       1025 non-null   int64  \n",
      " 6   restecg   1025 non-null   int64  \n",
      " 7   thalach   1025 non-null   int64  \n",
      " 8   exang     1025 non-null   int64  \n",
      " 9   oldpeak   1025 non-null   float64\n",
      " 10  slope     1025 non-null   int64  \n",
      " 11  ca        1025 non-null   int64  \n",
      " 12  thal      1025 non-null   int64  \n",
      " 13  target    1025 non-null   int64  \n",
      "dtypes: float64(1), int64(13)\n",
      "memory usage: 112.2 KB\n"
     ]
    }
   ],
   "source": [
    "dataframe = pd.read_csv(\"./heart.csv\")\n",
    "dataframe.info()"
   ]
  },
  {
   "cell_type": "code",
   "execution_count": 41,
   "metadata": {},
   "outputs": [
    {
     "data": {
      "text/html": [
       "<div>\n",
       "<style scoped>\n",
       "    .dataframe tbody tr th:only-of-type {\n",
       "        vertical-align: middle;\n",
       "    }\n",
       "\n",
       "    .dataframe tbody tr th {\n",
       "        vertical-align: top;\n",
       "    }\n",
       "\n",
       "    .dataframe thead th {\n",
       "        text-align: right;\n",
       "    }\n",
       "</style>\n",
       "<table border=\"1\" class=\"dataframe\">\n",
       "  <thead>\n",
       "    <tr style=\"text-align: right;\">\n",
       "      <th></th>\n",
       "      <th>age</th>\n",
       "      <th>sex</th>\n",
       "      <th>cp</th>\n",
       "      <th>trestbps</th>\n",
       "      <th>chol</th>\n",
       "      <th>fbs</th>\n",
       "      <th>restecg</th>\n",
       "      <th>thalach</th>\n",
       "      <th>exang</th>\n",
       "      <th>oldpeak</th>\n",
       "      <th>slope</th>\n",
       "      <th>ca</th>\n",
       "      <th>thal</th>\n",
       "      <th>target</th>\n",
       "    </tr>\n",
       "  </thead>\n",
       "  <tbody>\n",
       "    <tr>\n",
       "      <th>171</th>\n",
       "      <td>56</td>\n",
       "      <td>1</td>\n",
       "      <td>0</td>\n",
       "      <td>130</td>\n",
       "      <td>283</td>\n",
       "      <td>1</td>\n",
       "      <td>0</td>\n",
       "      <td>103</td>\n",
       "      <td>1</td>\n",
       "      <td>1.6</td>\n",
       "      <td>0</td>\n",
       "      <td>0</td>\n",
       "      <td>3</td>\n",
       "      <td>-1</td>\n",
       "    </tr>\n",
       "    <tr>\n",
       "      <th>588</th>\n",
       "      <td>61</td>\n",
       "      <td>0</td>\n",
       "      <td>0</td>\n",
       "      <td>145</td>\n",
       "      <td>307</td>\n",
       "      <td>0</td>\n",
       "      <td>0</td>\n",
       "      <td>146</td>\n",
       "      <td>1</td>\n",
       "      <td>1.0</td>\n",
       "      <td>1</td>\n",
       "      <td>0</td>\n",
       "      <td>3</td>\n",
       "      <td>-1</td>\n",
       "    </tr>\n",
       "    <tr>\n",
       "      <th>648</th>\n",
       "      <td>71</td>\n",
       "      <td>0</td>\n",
       "      <td>0</td>\n",
       "      <td>112</td>\n",
       "      <td>149</td>\n",
       "      <td>0</td>\n",
       "      <td>1</td>\n",
       "      <td>125</td>\n",
       "      <td>0</td>\n",
       "      <td>1.6</td>\n",
       "      <td>1</td>\n",
       "      <td>0</td>\n",
       "      <td>2</td>\n",
       "      <td>1</td>\n",
       "    </tr>\n",
       "    <tr>\n",
       "      <th>11</th>\n",
       "      <td>43</td>\n",
       "      <td>0</td>\n",
       "      <td>0</td>\n",
       "      <td>132</td>\n",
       "      <td>341</td>\n",
       "      <td>1</td>\n",
       "      <td>0</td>\n",
       "      <td>136</td>\n",
       "      <td>1</td>\n",
       "      <td>3.0</td>\n",
       "      <td>1</td>\n",
       "      <td>0</td>\n",
       "      <td>3</td>\n",
       "      <td>-1</td>\n",
       "    </tr>\n",
       "    <tr>\n",
       "      <th>192</th>\n",
       "      <td>67</td>\n",
       "      <td>0</td>\n",
       "      <td>2</td>\n",
       "      <td>115</td>\n",
       "      <td>564</td>\n",
       "      <td>0</td>\n",
       "      <td>0</td>\n",
       "      <td>160</td>\n",
       "      <td>0</td>\n",
       "      <td>1.6</td>\n",
       "      <td>1</td>\n",
       "      <td>0</td>\n",
       "      <td>3</td>\n",
       "      <td>1</td>\n",
       "    </tr>\n",
       "  </tbody>\n",
       "</table>\n",
       "</div>"
      ],
      "text/plain": [
       "     age  sex  cp  trestbps  chol  fbs  restecg  thalach  exang  oldpeak  \\\n",
       "171   56    1   0       130   283    1        0      103      1      1.6   \n",
       "588   61    0   0       145   307    0        0      146      1      1.0   \n",
       "648   71    0   0       112   149    0        1      125      0      1.6   \n",
       "11    43    0   0       132   341    1        0      136      1      3.0   \n",
       "192   67    0   2       115   564    0        0      160      0      1.6   \n",
       "\n",
       "     slope  ca  thal  target  \n",
       "171      0   0     3      -1  \n",
       "588      1   0     3      -1  \n",
       "648      1   0     2       1  \n",
       "11       1   0     3      -1  \n",
       "192      1   0     3       1  "
      ]
     },
     "execution_count": 41,
     "metadata": {},
     "output_type": "execute_result"
    }
   ],
   "source": [
    "dataframe[\"target\"] = dataframe[\"target\"].replace(0, -1)\n",
    "dataframe.sample(5)"
   ]
  },
  {
   "cell_type": "code",
   "execution_count": 42,
   "metadata": {},
   "outputs": [],
   "source": [
    "def train_test_split(features, labels, test_size = 0.25, random_state = np.random.randint(100)):\n",
    "    train_size = int(np.round((1 - test_size) * features.shape[0]))\n",
    "    np.random.seed(random_state)\n",
    "    new_features = np.random.permutation(features)\n",
    "    np.random.seed(random_state)\n",
    "    new_labels = np.random.permutation(labels)\n",
    "    \n",
    "    features_train = new_features[:train_size]\n",
    "    labels_train = new_labels[:train_size]\n",
    "    features_test = new_features[train_size:]\n",
    "    labels_test = new_labels[train_size:]\n",
    "    \n",
    "    return features_train, features_test, labels_train, labels_test\n",
    "    "
   ]
  },
  {
   "cell_type": "code",
   "execution_count": 43,
   "metadata": {},
   "outputs": [],
   "source": [
    "features = np.array(dataframe.drop(columns=\"target\"))\n",
    "labels = np.array(dataframe[\"target\"])\n",
    "\n",
    "features_train, features_test, labels_train, labels_test = train_test_split(features, labels)"
   ]
  },
  {
   "cell_type": "code",
   "execution_count": 44,
   "metadata": {},
   "outputs": [],
   "source": [
    "# Support Vector Machine classifiers by kernel which is linear.\n",
    "class SVM:\n",
    "    def __init__(self, c=1, learning_rate=1):\n",
    "        self.cost = c\n",
    "        self.learning_rate = learning_rate\n",
    "    \n",
    "    def fit(self, features_train, labels_train):\n",
    "        \n",
    "        #store info\n",
    "        self.d = features_train.shape[1]\n",
    "        self.n_record = features_train.shape[0]\n",
    "        \n",
    "        # set up features and labels\n",
    "        full_one = np.ones((self.n_record, 1))\n",
    "        self.features = np.append(features_train, full_one, axis=1)\n",
    "        self.labels = labels_train\n",
    "\n",
    "        # set vector of weight by d dimensions\n",
    "        self.weight = np.zeros(self.d + 1)\n",
    "        self.array_weight = np.empty((0, self.d+1), float)\n",
    "        \n",
    "        for i in range(1000):\n",
    "            self.weight = self.computeWeight(self.weight, self.features, self.labels, self.n_record) # compute to get weight's value\n",
    "            \n",
    "            self.array_weight = np.append(self.array_weight, [self.weight], axis=0)\n",
    "\n",
    "        \n",
    "    def computeWeight(self, weight, feature_train, labels_train, n_record):\n",
    "        new_weight = weight\n",
    "        for i in range(n_record):\n",
    "            check = labels_train[i] * (np.inner(new_weight, feature_train[i]))\n",
    "            if check < 1:\n",
    "                new_weight = new_weight - self.learning_rate * (new_weight - np.inner(labels_train[i], feature_train[i]))\n",
    "            else:\n",
    "                new_weight = new_weight - self.learning_rate * new_weight\n",
    "            \n",
    "        return new_weight\n",
    "    \n",
    "    def predict(self, feature_test):\n",
    "        new_feature_test = np.append(feature_test, 1)\n",
    "        check = np.inner(self.weight, new_feature_test)\n",
    "        if check >= 0 :\n",
    "            # positive class\n",
    "            return 1 \n",
    "        else:\n",
    "            # negative class\n",
    "            return -1\n",
    "    \n",
    "    def hinge_loss(self, weight, features, labels, size):\n",
    "        sum_loss = 0\n",
    "        for i in range(size):\n",
    "            check = 1-labels[i] * (np.inner(weight, features[i]))\n",
    "            if check > 0:\n",
    "                sum_loss += check\n",
    "        return sum_loss\n",
    "    \n",
    "    def accuracy_score(self, features_test, labels_test):\n",
    "        size = features_test.shape[0]\n",
    "        point = 0\n",
    "        for i in range(size):\n",
    "            y_predict = self.predict(features_test[i])\n",
    "            if y_predict == labels_test[i]:\n",
    "                point += 1\n",
    "        \n",
    "        return np.round(point / size, 4)\n",
    "    \n",
    "    def get_array_loss(self, features, labels):\n",
    "        array_loss = np.array([])\n",
    "        full_one = np.ones((features.shape[0], 1))\n",
    "        new_features = np.append(features, full_one, axis=1)\n",
    "        number_weight = self.array_weight.shape[0]\n",
    "        number_record = features.shape[0]\n",
    "        \n",
    "        for i in range(number_weight):\n",
    "            loss = self.hinge_loss(self.array_weight[i], new_features, labels, number_record)\n",
    "            array_loss = np.append(array_loss, loss)\n",
    "        \n",
    "        return array_loss\n",
    "    \n",
    "    def sensitivity_score(self, features_test, labels_test):\n",
    "        size = features_test.shape[0]\n",
    "        pointTP = 0\n",
    "        pointFP = 0\n",
    "\n",
    "        for i in range(size):\n",
    "            y_predict = self.predict(features_test[i])\n",
    "            if y_predict == labels_test[i] and y_predict == 1:\n",
    "                pointTP += 1\n",
    "                \n",
    "            elif y_predict == 1:\n",
    "                pointFP += 1\n",
    "        \n",
    "        return np.round(pointTP/(pointTP + pointFP), 4)\n",
    "            "
   ]
  },
  {
   "cell_type": "code",
   "execution_count": 45,
   "metadata": {},
   "outputs": [
    {
     "name": "stdout",
     "output_type": "stream",
     "text": [
      "[-0.01395941 -0.03800331  0.09482201 -0.01820921 -0.00385807  0.00043392\n",
      "  0.01191676  0.02947808 -0.04287214 -0.08908832  0.03281077 -0.07034341\n",
      " -0.05287323 -0.00179395]\n"
     ]
    }
   ],
   "source": [
    "model = SVM(learning_rate=0.0000005)\n",
    "model.fit(features_train, labels_train)\n",
    "print(model.weight)"
   ]
  },
  {
   "cell_type": "markdown",
   "metadata": {},
   "source": [
    "Accuracy of Test data"
   ]
  },
  {
   "cell_type": "code",
   "execution_count": 46,
   "metadata": {},
   "outputs": [
    {
     "data": {
      "text/plain": [
       "0.6875"
      ]
     },
     "execution_count": 46,
     "metadata": {},
     "output_type": "execute_result"
    }
   ],
   "source": [
    "model.accuracy_score(features_test, labels_test)"
   ]
  },
  {
   "cell_type": "markdown",
   "metadata": {},
   "source": [
    "Accuracy of Training data"
   ]
  },
  {
   "cell_type": "code",
   "execution_count": 47,
   "metadata": {},
   "outputs": [
    {
     "data": {
      "text/plain": [
       "0.7217"
      ]
     },
     "execution_count": 47,
     "metadata": {},
     "output_type": "execute_result"
    }
   ],
   "source": [
    "model.accuracy_score(features_train, labels_train)"
   ]
  },
  {
   "cell_type": "markdown",
   "metadata": {},
   "source": [
    "Sensitivity of Test data"
   ]
  },
  {
   "cell_type": "code",
   "execution_count": 48,
   "metadata": {},
   "outputs": [
    {
     "data": {
      "text/plain": [
       "0.6962"
      ]
     },
     "execution_count": 48,
     "metadata": {},
     "output_type": "execute_result"
    }
   ],
   "source": [
    "model.sensitivity_score(features_test, labels_test)"
   ]
  },
  {
   "cell_type": "markdown",
   "metadata": {},
   "source": [
    "Sensitivity of Training data"
   ]
  },
  {
   "cell_type": "code",
   "execution_count": 49,
   "metadata": {},
   "outputs": [
    {
     "data": {
      "text/plain": [
       "0.6995"
      ]
     },
     "execution_count": 49,
     "metadata": {},
     "output_type": "execute_result"
    }
   ],
   "source": [
    "model.sensitivity_score(features_train, labels_train)"
   ]
  },
  {
   "cell_type": "code",
   "execution_count": 50,
   "metadata": {},
   "outputs": [
    {
     "data": {
      "text/plain": [
       "(1000, 14)"
      ]
     },
     "execution_count": 50,
     "metadata": {},
     "output_type": "execute_result"
    }
   ],
   "source": [
    "model.array_weight.shape"
   ]
  },
  {
   "cell_type": "code",
   "execution_count": 51,
   "metadata": {},
   "outputs": [
    {
     "data": {
      "image/png": "[encoded data removed]",
      "text/plain": [
       "<Figure size 640x480 with 1 Axes>"
      ]
     },
     "metadata": {},
     "output_type": "display_data"
    }
   ],
   "source": [
    "# plot that is loss training data\n",
    "plt.plot(model.get_array_loss(features_train, labels_train), color=\"b\", label = \"loss_train\")\n",
    "# plot that is loss test data\n",
    "plt.plot(model.get_array_loss(features_test, labels_test), color=\"r\", label = \"loss_test\")\n",
    "plt.ylabel(\"loss\")\n",
    "plt.xlabel(\"the number of update weight\")\n",
    "plt.title(\"Loss function\")\n",
    "plt.legend()\n",
    "plt.show()"
   ]
  },
  {
   "cell_type": "code",
   "execution_count": 52,
   "metadata": {},
   "outputs": [],
   "source": [
    "# Model Selection by using KFold\n",
    "class ModelSelection:\n",
    "    def __init__(self, features, labels , model=SVM(learning_rate=0.0000005), n_split=10):\n",
    "        self.features = features\n",
    "        self.labels = labels\n",
    "        self.n_split = n_split\n",
    "        self.model = model\n",
    "        self.array_accuracy = np.array([])\n",
    "        self.array_sensitivity = np.array([])\n",
    "        \n",
    "        self.size = features.shape[0]\n",
    "        \n",
    "        for i in range(n_split):\n",
    "            start = i * int(self.size/n_split)\n",
    "            end = (i + 1) * int(self.size/n_split)\n",
    "            if end > self.size:\n",
    "                end = self.size\n",
    "            \n",
    "            features_test = self.features[start:end]\n",
    "            labels_test = self.labels[start:end]\n",
    "            \n",
    "            features_train = np.delete(self.features, slice(start, end), axis=0)\n",
    "            labels_train = np.delete(self.labels, slice(start, end), axis=0)\n",
    "            \n",
    "            self.model.fit(features_train, labels_train)\n",
    "            self.array_accuracy = np.append(self.array_accuracy, self.model.accuracy_score(features_test, labels_test))\n",
    "            self.array_sensitivity = np.append(self.array_sensitivity, self.model.sensitivity_score(features_test, labels_test))\n",
    "\n",
    "    def get_mean_score(self, typeScore):\n",
    "        match typeScore:\n",
    "            case \"accuracy\":\n",
    "                return np.round(np.mean(self.array_accuracy), 4)\n",
    "            case \"sensitivity\":\n",
    "                return np.round(np.mean(self.array_sensitivity), 4)\n",
    "    \n",
    "    def get_max_score(self, typeScore):\n",
    "        match typeScore:\n",
    "            case \"accuracy\":\n",
    "                return np.round(np.max(self.array_accuracy), 4)\n",
    "            case \"sensitivity\":\n",
    "                return np.round(np.max(self.array_sensitivity), 4)\n",
    "    "
   ]
  },
  {
   "cell_type": "code",
   "execution_count": 53,
   "metadata": {},
   "outputs": [
    {
     "name": "stdout",
     "output_type": "stream",
     "text": [
      "Mean Of Accuracy Score:  0.7197\n",
      "Mean Of Sensitivity Score:  0.7028\n",
      "Max Of Accuracy Score:  0.7895\n",
      "Max Of Sensitivity Score:  0.8438\n"
     ]
    }
   ],
   "source": [
    "kfold = ModelSelection(features_train, labels_train, SVM(learning_rate=0.0000005))\n",
    "print(\"Mean Of Accuracy Score: \", kfold.get_mean_score(\"accuracy\"))\n",
    "print(\"Mean Of Sensitivity Score: \", kfold.get_mean_score(\"sensitivity\"))\n",
    "print(\"Max Of Accuracy Score: \", kfold.get_max_score(\"accuracy\"))\n",
    "print(\"Max Of Sensitivity Score: \", kfold.get_max_score(\"sensitivity\"))"
   ]
  }
 ],
 "metadata": {
  "kernelspec": {
   "display_name": "base",
   "language": "python",
   "name": "python3"
  },
  "language_info": {
   "codemirror_mode": {
    "name": "ipython",
    "version": 3
   },
   "file_extension": ".py",
   "mimetype": "text/x-python",
   "name": "python",
   "nbconvert_exporter": "python",
   "pygments_lexer": "ipython3",
   "version": "3.11.7"
  }
 },
 "nbformat": 4,
 "nbformat_minor": 2
}
