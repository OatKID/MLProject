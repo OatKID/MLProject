{
 "cells": [
  {
   "cell_type": "code",
   "execution_count": 3395,
   "metadata": {},
   "outputs": [],
   "source": [
    "import numpy as np\n",
    "import pandas as pd\n",
    "import matplotlib.pyplot as plt\n",
    "from sklearn.model_selection import train_test_split\n",
    "from sklearn import svm"
   ]
  },
  {
   "cell_type": "code",
   "execution_count": 3396,
   "metadata": {},
   "outputs": [
    {
     "name": "stdout",
     "output_type": "stream",
     "text": [
      "<class 'pandas.core.frame.DataFrame'>\n",
      "RangeIndex: 1025 entries, 0 to 1024\n",
      "Data columns (total 14 columns):\n",
      " #   Column    Non-Null Count  Dtype  \n",
      "---  ------    --------------  -----  \n",
      " 0   age       1025 non-null   int64  \n",
      " 1   sex       1025 non-null   int64  \n",
      " 2   cp        1025 non-null   int64  \n",
      " 3   trestbps  1025 non-null   int64  \n",
      " 4   chol      1025 non-null   int64  \n",
      " 5   fbs       1025 non-null   int64  \n",
      " 6   restecg   1025 non-null   int64  \n",
      " 7   thalach   1025 non-null   int64  \n",
      " 8   exang     1025 non-null   int64  \n",
      " 9   oldpeak   1025 non-null   float64\n",
      " 10  slope     1025 non-null   int64  \n",
      " 11  ca        1025 non-null   int64  \n",
      " 12  thal      1025 non-null   int64  \n",
      " 13  target    1025 non-null   int64  \n",
      "dtypes: float64(1), int64(13)\n",
      "memory usage: 112.2 KB\n"
     ]
    }
   ],
   "source": [
    "dataframe = pd.read_csv(\"./heart.csv\")\n",
    "dataframe.info()"
   ]
  },
  {
   "cell_type": "code",
   "execution_count": 3397,
   "metadata": {},
   "outputs": [
    {
     "data": {
      "text/html": [
       "<div>\n",
       "<style scoped>\n",
       "    .dataframe tbody tr th:only-of-type {\n",
       "        vertical-align: middle;\n",
       "    }\n",
       "\n",
       "    .dataframe tbody tr th {\n",
       "        vertical-align: top;\n",
       "    }\n",
       "\n",
       "    .dataframe thead th {\n",
       "        text-align: right;\n",
       "    }\n",
       "</style>\n",
       "<table border=\"1\" class=\"dataframe\">\n",
       "  <thead>\n",
       "    <tr style=\"text-align: right;\">\n",
       "      <th></th>\n",
       "      <th>age</th>\n",
       "      <th>sex</th>\n",
       "      <th>cp</th>\n",
       "      <th>trestbps</th>\n",
       "      <th>chol</th>\n",
       "      <th>fbs</th>\n",
       "      <th>restecg</th>\n",
       "      <th>thalach</th>\n",
       "      <th>exang</th>\n",
       "      <th>oldpeak</th>\n",
       "      <th>slope</th>\n",
       "      <th>ca</th>\n",
       "      <th>thal</th>\n",
       "      <th>target</th>\n",
       "    </tr>\n",
       "  </thead>\n",
       "  <tbody>\n",
       "    <tr>\n",
       "      <th>385</th>\n",
       "      <td>51</td>\n",
       "      <td>1</td>\n",
       "      <td>2</td>\n",
       "      <td>110</td>\n",
       "      <td>175</td>\n",
       "      <td>0</td>\n",
       "      <td>1</td>\n",
       "      <td>123</td>\n",
       "      <td>0</td>\n",
       "      <td>0.6</td>\n",
       "      <td>2</td>\n",
       "      <td>0</td>\n",
       "      <td>2</td>\n",
       "      <td>1</td>\n",
       "    </tr>\n",
       "    <tr>\n",
       "      <th>5</th>\n",
       "      <td>58</td>\n",
       "      <td>0</td>\n",
       "      <td>0</td>\n",
       "      <td>100</td>\n",
       "      <td>248</td>\n",
       "      <td>0</td>\n",
       "      <td>0</td>\n",
       "      <td>122</td>\n",
       "      <td>0</td>\n",
       "      <td>1.0</td>\n",
       "      <td>1</td>\n",
       "      <td>0</td>\n",
       "      <td>2</td>\n",
       "      <td>1</td>\n",
       "    </tr>\n",
       "    <tr>\n",
       "      <th>272</th>\n",
       "      <td>39</td>\n",
       "      <td>0</td>\n",
       "      <td>2</td>\n",
       "      <td>138</td>\n",
       "      <td>220</td>\n",
       "      <td>0</td>\n",
       "      <td>1</td>\n",
       "      <td>152</td>\n",
       "      <td>0</td>\n",
       "      <td>0.0</td>\n",
       "      <td>1</td>\n",
       "      <td>0</td>\n",
       "      <td>2</td>\n",
       "      <td>1</td>\n",
       "    </tr>\n",
       "    <tr>\n",
       "      <th>553</th>\n",
       "      <td>53</td>\n",
       "      <td>1</td>\n",
       "      <td>2</td>\n",
       "      <td>130</td>\n",
       "      <td>197</td>\n",
       "      <td>1</td>\n",
       "      <td>0</td>\n",
       "      <td>152</td>\n",
       "      <td>0</td>\n",
       "      <td>1.2</td>\n",
       "      <td>0</td>\n",
       "      <td>0</td>\n",
       "      <td>2</td>\n",
       "      <td>1</td>\n",
       "    </tr>\n",
       "    <tr>\n",
       "      <th>87</th>\n",
       "      <td>59</td>\n",
       "      <td>0</td>\n",
       "      <td>0</td>\n",
       "      <td>174</td>\n",
       "      <td>249</td>\n",
       "      <td>0</td>\n",
       "      <td>1</td>\n",
       "      <td>143</td>\n",
       "      <td>1</td>\n",
       "      <td>0.0</td>\n",
       "      <td>1</td>\n",
       "      <td>0</td>\n",
       "      <td>2</td>\n",
       "      <td>-1</td>\n",
       "    </tr>\n",
       "  </tbody>\n",
       "</table>\n",
       "</div>"
      ],
      "text/plain": [
       "     age  sex  cp  trestbps  chol  fbs  restecg  thalach  exang  oldpeak  \\\n",
       "385   51    1   2       110   175    0        1      123      0      0.6   \n",
       "5     58    0   0       100   248    0        0      122      0      1.0   \n",
       "272   39    0   2       138   220    0        1      152      0      0.0   \n",
       "553   53    1   2       130   197    1        0      152      0      1.2   \n",
       "87    59    0   0       174   249    0        1      143      1      0.0   \n",
       "\n",
       "     slope  ca  thal  target  \n",
       "385      2   0     2       1  \n",
       "5        1   0     2       1  \n",
       "272      1   0     2       1  \n",
       "553      0   0     2       1  \n",
       "87       1   0     2      -1  "
      ]
     },
     "execution_count": 3397,
     "metadata": {},
     "output_type": "execute_result"
    }
   ],
   "source": [
    "dataframe[\"target\"] = dataframe[\"target\"].replace(0, -1)\n",
    "dataframe.sample(5)"
   ]
  },
  {
   "cell_type": "code",
   "execution_count": 3398,
   "metadata": {},
   "outputs": [],
   "source": [
    "def scalerTranfrom(features):\n",
    "    new_features = features\n",
    "    l2_norm = np.linalg.norm(new_features, 2, axis=1, keepdims=True)\n",
    "    l2_normlized_feature = new_features / l2_norm\n",
    "    \n",
    "    return l2_normlized_feature"
   ]
  },
  {
   "cell_type": "code",
   "execution_count": 3399,
   "metadata": {},
   "outputs": [],
   "source": [
    "features = np.array(dataframe.drop(columns=\"target\"))\n",
    "labels = np.array(dataframe[\"target\"])\n",
    "\n",
    "# print(features.shape)\n",
    "# features = scalerTranfrom(features)\n",
    "\n",
    "features_train, features_test, labels_train, labels_test = train_test_split(features, labels)"
   ]
  },
  {
   "cell_type": "code",
   "execution_count": 3400,
   "metadata": {},
   "outputs": [],
   "source": [
    "import time\n",
    "# Support Vector Machine classifiers by kernel which is linear.\n",
    "class SVM:\n",
    "    def __init__(self, c=1, learning_rate=1):\n",
    "        self.cost = c\n",
    "        self.learning_rate = learning_rate\n",
    "        self.array_loss = np.array([])\n",
    "        self.b = 0\n",
    "    \n",
    "    def fit(self, features_train, labels_train):\n",
    "        \n",
    "        #store info\n",
    "        self.d = features_train.shape[1]\n",
    "        self.n_record = features_train.shape[0]\n",
    "        \n",
    "        # set up features and labels\n",
    "        self.features = features_train\n",
    "        self.labels = labels_train\n",
    "\n",
    "        # set vector of weight by d dimensions\n",
    "        self.weight = np.zeros(self.d)\n",
    "        \n",
    "        for i in range(100):\n",
    "            self.weight = self.computeWeight(self.weight, self.features, self.labels, self.n_record) # compute to get weight's value\n",
    "            loss = self.hinge_loss(self.weight, self.features, self.labels)\n",
    "            self.array_loss = np.append(self.array_loss, loss)\n",
    "\n",
    "        \n",
    "    def computeWeight(self, weight, feature_train, labels_train, n_record):\n",
    "        new_weight = weight\n",
    "        for i in range(n_record):\n",
    "            check = labels_train[i] * (np.inner(new_weight, feature_train[i]) + self.b)\n",
    "            if check < 1:\n",
    "                new_weight = new_weight - self.learning_rate * (new_weight - np.inner(labels_train[i], feature_train[i]))\n",
    "                self.b += labels_train[i]\n",
    "            else:\n",
    "                new_weight = new_weight - self.learning_rate * new_weight\n",
    "            \n",
    "        return new_weight\n",
    "    \n",
    "    def predict(self, feature_test):\n",
    "        check = np.inner(self.weight, feature_test) + self.b\n",
    "        if check >= 0 :\n",
    "            # positive class\n",
    "            return 1 \n",
    "        else:\n",
    "            # negative class\n",
    "            return -1\n",
    "    \n",
    "    def hinge_loss(self, weight, features, labels):\n",
    "        result = 0\n",
    "        for i in range(self.n_record):\n",
    "            check = 1-labels[i] * (np.inner(weight, features[i]) + self.b)\n",
    "            if check > result:\n",
    "                result = check\n",
    "        return result\n",
    "    \n",
    "    def score(self, features_test, labels_test):\n",
    "        size = features_test.shape[0]\n",
    "        point = 0\n",
    "        for i in range(size):\n",
    "            y_predict = self.predict(features_test[i])\n",
    "            if y_predict == labels_test[i]:\n",
    "                point += 1\n",
    "        \n",
    "        return np.round(point / size, 4)\n",
    "            "
   ]
  },
  {
   "cell_type": "code",
   "execution_count": 3401,
   "metadata": {},
   "outputs": [
    {
     "name": "stdout",
     "output_type": "stream",
     "text": [
      "[-0.17921759 -0.06060483  0.17364807  1.32584571 -1.15279871 -0.00855688\n",
      "  0.0384778   4.91585795 -0.09998935 -0.18617494  0.0905129  -0.14258988\n",
      " -0.05011516]\n"
     ]
    }
   ],
   "source": [
    "model = SVM(c=50, learning_rate=0.01)\n",
    "model.fit(features_train, labels_train)\n",
    "print(model.weight)"
   ]
  },
  {
   "cell_type": "code",
   "execution_count": 3402,
   "metadata": {},
   "outputs": [
    {
     "data": {
      "text/plain": [
       "0.5019"
      ]
     },
     "execution_count": 3402,
     "metadata": {},
     "output_type": "execute_result"
    }
   ],
   "source": [
    "model.score(features_test, labels_test)"
   ]
  },
  {
   "cell_type": "code",
   "execution_count": 3403,
   "metadata": {},
   "outputs": [
    {
     "data": {
      "text/plain": [
       "0.5169"
      ]
     },
     "execution_count": 3403,
     "metadata": {},
     "output_type": "execute_result"
    }
   ],
   "source": [
    "model.score(features_train, labels_train)"
   ]
  },
  {
   "cell_type": "code",
   "execution_count": 3404,
   "metadata": {},
   "outputs": [
    {
     "data": {
      "image/png": "[encoded data removed]",
      "text/plain": [
       "<Figure size 640x480 with 1 Axes>"
      ]
     },
     "metadata": {},
     "output_type": "display_data"
    }
   ],
   "source": [
    "plt.plot(model.array_loss)\n",
    "plt.show()"
   ]
  },
  {
   "cell_type": "code",
   "execution_count": 3405,
   "metadata": {},
   "outputs": [],
   "source": [
    "# Model Selection\n",
    "class ModelSelection:\n",
    "    def __init__(self, features, labels , model):\n",
    "        self.features = features\n",
    "        self.labels = labels\n",
    "        self.model = model\n",
    "        pass"
   ]
  }
 ],
 "metadata": {
  "kernelspec": {
   "display_name": "base",
   "language": "python",
   "name": "python3"
  },
  "language_info": {
   "codemirror_mode": {
    "name": "ipython",
    "version": 3
   },
   "file_extension": ".py",
   "mimetype": "text/x-python",
   "name": "python",
   "nbconvert_exporter": "python",
   "pygments_lexer": "ipython3",
   "version": "3.11.7"
  }
 },
 "nbformat": 4,
 "nbformat_minor": 2
}
