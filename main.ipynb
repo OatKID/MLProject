{
 "cells": [
  {
   "cell_type": "code",
   "execution_count": 186,
   "metadata": {},
   "outputs": [],
   "source": [
    "import numpy as np\n",
    "import pandas as pd\n",
    "import matplotlib.pyplot as plt\n",
    "from sklearn.model_selection import train_test_split"
   ]
  },
  {
   "cell_type": "code",
   "execution_count": 187,
   "metadata": {},
   "outputs": [
    {
     "name": "stdout",
     "output_type": "stream",
     "text": [
      "<class 'pandas.core.frame.DataFrame'>\n",
      "RangeIndex: 1025 entries, 0 to 1024\n",
      "Data columns (total 14 columns):\n",
      " #   Column    Non-Null Count  Dtype  \n",
      "---  ------    --------------  -----  \n",
      " 0   age       1025 non-null   int64  \n",
      " 1   sex       1025 non-null   int64  \n",
      " 2   cp        1025 non-null   int64  \n",
      " 3   trestbps  1025 non-null   int64  \n",
      " 4   chol      1025 non-null   int64  \n",
      " 5   fbs       1025 non-null   int64  \n",
      " 6   restecg   1025 non-null   int64  \n",
      " 7   thalach   1025 non-null   int64  \n",
      " 8   exang     1025 non-null   int64  \n",
      " 9   oldpeak   1025 non-null   float64\n",
      " 10  slope     1025 non-null   int64  \n",
      " 11  ca        1025 non-null   int64  \n",
      " 12  thal      1025 non-null   int64  \n",
      " 13  target    1025 non-null   int64  \n",
      "dtypes: float64(1), int64(13)\n",
      "memory usage: 112.2 KB\n"
     ]
    }
   ],
   "source": [
    "dataframe = pd.read_csv(\"./heart.csv\")\n",
    "dataframe.info()"
   ]
  },
  {
   "cell_type": "code",
   "execution_count": 188,
   "metadata": {},
   "outputs": [
    {
     "data": {
      "text/html": [
       "<div>\n",
       "<style scoped>\n",
       "    .dataframe tbody tr th:only-of-type {\n",
       "        vertical-align: middle;\n",
       "    }\n",
       "\n",
       "    .dataframe tbody tr th {\n",
       "        vertical-align: top;\n",
       "    }\n",
       "\n",
       "    .dataframe thead th {\n",
       "        text-align: right;\n",
       "    }\n",
       "</style>\n",
       "<table border=\"1\" class=\"dataframe\">\n",
       "  <thead>\n",
       "    <tr style=\"text-align: right;\">\n",
       "      <th></th>\n",
       "      <th>age</th>\n",
       "      <th>sex</th>\n",
       "      <th>cp</th>\n",
       "      <th>trestbps</th>\n",
       "      <th>chol</th>\n",
       "      <th>fbs</th>\n",
       "      <th>restecg</th>\n",
       "      <th>thalach</th>\n",
       "      <th>exang</th>\n",
       "      <th>oldpeak</th>\n",
       "      <th>slope</th>\n",
       "      <th>ca</th>\n",
       "      <th>thal</th>\n",
       "      <th>target</th>\n",
       "    </tr>\n",
       "  </thead>\n",
       "  <tbody>\n",
       "    <tr>\n",
       "      <th>478</th>\n",
       "      <td>39</td>\n",
       "      <td>1</td>\n",
       "      <td>2</td>\n",
       "      <td>140</td>\n",
       "      <td>321</td>\n",
       "      <td>0</td>\n",
       "      <td>0</td>\n",
       "      <td>182</td>\n",
       "      <td>0</td>\n",
       "      <td>0.0</td>\n",
       "      <td>2</td>\n",
       "      <td>0</td>\n",
       "      <td>2</td>\n",
       "      <td>1</td>\n",
       "    </tr>\n",
       "    <tr>\n",
       "      <th>702</th>\n",
       "      <td>71</td>\n",
       "      <td>0</td>\n",
       "      <td>1</td>\n",
       "      <td>160</td>\n",
       "      <td>302</td>\n",
       "      <td>0</td>\n",
       "      <td>1</td>\n",
       "      <td>162</td>\n",
       "      <td>0</td>\n",
       "      <td>0.4</td>\n",
       "      <td>2</td>\n",
       "      <td>2</td>\n",
       "      <td>2</td>\n",
       "      <td>1</td>\n",
       "    </tr>\n",
       "    <tr>\n",
       "      <th>91</th>\n",
       "      <td>62</td>\n",
       "      <td>0</td>\n",
       "      <td>0</td>\n",
       "      <td>124</td>\n",
       "      <td>209</td>\n",
       "      <td>0</td>\n",
       "      <td>1</td>\n",
       "      <td>163</td>\n",
       "      <td>0</td>\n",
       "      <td>0.0</td>\n",
       "      <td>2</td>\n",
       "      <td>0</td>\n",
       "      <td>2</td>\n",
       "      <td>1</td>\n",
       "    </tr>\n",
       "    <tr>\n",
       "      <th>248</th>\n",
       "      <td>39</td>\n",
       "      <td>0</td>\n",
       "      <td>2</td>\n",
       "      <td>138</td>\n",
       "      <td>220</td>\n",
       "      <td>0</td>\n",
       "      <td>1</td>\n",
       "      <td>152</td>\n",
       "      <td>0</td>\n",
       "      <td>0.0</td>\n",
       "      <td>1</td>\n",
       "      <td>0</td>\n",
       "      <td>2</td>\n",
       "      <td>1</td>\n",
       "    </tr>\n",
       "    <tr>\n",
       "      <th>655</th>\n",
       "      <td>41</td>\n",
       "      <td>1</td>\n",
       "      <td>1</td>\n",
       "      <td>110</td>\n",
       "      <td>235</td>\n",
       "      <td>0</td>\n",
       "      <td>1</td>\n",
       "      <td>153</td>\n",
       "      <td>0</td>\n",
       "      <td>0.0</td>\n",
       "      <td>2</td>\n",
       "      <td>0</td>\n",
       "      <td>2</td>\n",
       "      <td>1</td>\n",
       "    </tr>\n",
       "  </tbody>\n",
       "</table>\n",
       "</div>"
      ],
      "text/plain": [
       "     age  sex  cp  trestbps  chol  fbs  restecg  thalach  exang  oldpeak  \\\n",
       "478   39    1   2       140   321    0        0      182      0      0.0   \n",
       "702   71    0   1       160   302    0        1      162      0      0.4   \n",
       "91    62    0   0       124   209    0        1      163      0      0.0   \n",
       "248   39    0   2       138   220    0        1      152      0      0.0   \n",
       "655   41    1   1       110   235    0        1      153      0      0.0   \n",
       "\n",
       "     slope  ca  thal  target  \n",
       "478      2   0     2       1  \n",
       "702      2   2     2       1  \n",
       "91       2   0     2       1  \n",
       "248      1   0     2       1  \n",
       "655      2   0     2       1  "
      ]
     },
     "execution_count": 188,
     "metadata": {},
     "output_type": "execute_result"
    }
   ],
   "source": [
    "dataframe[\"target\"] = dataframe[\"target\"].replace(0, -1)\n",
    "dataframe.sample(5)"
   ]
  },
  {
   "cell_type": "code",
   "execution_count": 189,
   "metadata": {},
   "outputs": [],
   "source": [
    "def scalerTranfrom(features):\n",
    "    new_features = features\n",
    "    l2_norm = np.linalg.norm(new_features, 2, axis=1, keepdims=True)\n",
    "    l2_normlized_feature = new_features / l2_norm\n",
    "    \n",
    "    return l2_normlized_feature"
   ]
  },
  {
   "cell_type": "code",
   "execution_count": 190,
   "metadata": {},
   "outputs": [],
   "source": [
    "features = np.array(dataframe.drop(columns=\"target\"))\n",
    "labels = np.array(dataframe[\"target\"])\n",
    "\n",
    "# print(features.shape)\n",
    "# features = scalerTranfrom(features)\n",
    "\n",
    "features_train, features_test, labels_train, labels_test = train_test_split(features, labels)"
   ]
  },
  {
   "cell_type": "code",
   "execution_count": 191,
   "metadata": {},
   "outputs": [],
   "source": [
    "# Support Vector Machine classifiers by kernel which is linear.\n",
    "class SVM:\n",
    "    def __init__(self, c=1, learning_rate=1):\n",
    "        self.cost = c\n",
    "        self.learning_rate = learning_rate\n",
    "    \n",
    "    def fit(self, features_train, labels_train):\n",
    "        \n",
    "        #store info\n",
    "        self.d = features_train.shape[1]\n",
    "        self.n_record = features_train.shape[0]\n",
    "        \n",
    "        # set up features and labels\n",
    "        full_one = np.ones((self.n_record, 1))\n",
    "        self.features = np.append(features_train, full_one, axis=1)\n",
    "        self.labels = labels_train\n",
    "\n",
    "        # set vector of weight by d dimensions\n",
    "        self.weight = np.zeros(self.d + 1)\n",
    "        self.array_weight = np.empty((0, self.d+1), float)\n",
    "        \n",
    "        for i in range(1000):\n",
    "            self.weight = self.computeWeight(self.weight, self.features, self.labels, self.n_record) # compute to get weight's value\n",
    "            \n",
    "            self.array_weight = np.append(self.array_weight, [self.weight], axis=0)\n",
    "\n",
    "        \n",
    "    def computeWeight(self, weight, feature_train, labels_train, n_record):\n",
    "        new_weight = weight\n",
    "        for i in range(n_record):\n",
    "            check = labels_train[i] * (np.inner(new_weight, feature_train[i]))\n",
    "            if check < 1:\n",
    "                new_weight = new_weight - self.learning_rate * (new_weight - np.inner(labels_train[i], feature_train[i]))\n",
    "            else:\n",
    "                new_weight = new_weight - self.learning_rate * new_weight\n",
    "            \n",
    "        return new_weight\n",
    "    \n",
    "    def predict(self, feature_test):\n",
    "        new_feature_test = np.append(feature_test, 1)\n",
    "        check = np.inner(self.weight, new_feature_test)\n",
    "        if check >= 0 :\n",
    "            # positive class\n",
    "            return 1 \n",
    "        else:\n",
    "            # negative class\n",
    "            return -1\n",
    "    \n",
    "    def hinge_loss(self, weight, features, labels, size):\n",
    "        sum_loss = 0\n",
    "        for i in range(size):\n",
    "            check = 1-labels[i] * (np.inner(weight, features[i]))\n",
    "            if check > 0:\n",
    "                sum_loss += check\n",
    "        return sum_loss\n",
    "    \n",
    "    def score(self, features_test, labels_test):\n",
    "        size = features_test.shape[0]\n",
    "        point = 0\n",
    "        for i in range(size):\n",
    "            y_predict = self.predict(features_test[i])\n",
    "            if y_predict == labels_test[i]:\n",
    "                point += 1\n",
    "        \n",
    "        return np.round(point / size, 4)\n",
    "    \n",
    "    def get_array_loss(self, features, labels):\n",
    "        array_loss = np.array([])\n",
    "        full_one = np.ones((features.shape[0], 1))\n",
    "        new_features = np.append(features, full_one, axis=1)\n",
    "        number_weight = self.array_weight.shape[0]\n",
    "        number_record = features.shape[0]\n",
    "        \n",
    "        for i in range(number_weight):\n",
    "            loss = self.hinge_loss(self.array_weight[i], new_features, labels, number_record)\n",
    "            array_loss = np.append(array_loss, loss)\n",
    "        \n",
    "        return array_loss\n",
    "            "
   ]
  },
  {
   "cell_type": "code",
   "execution_count": 192,
   "metadata": {},
   "outputs": [
    {
     "name": "stdout",
     "output_type": "stream",
     "text": [
      "[-0.01170429 -0.06166304  0.14291566 -0.01935286 -0.00141243 -0.00235779\n",
      "  0.01578432  0.0285304  -0.06763632 -0.13589921  0.04360233 -0.11172032\n",
      " -0.07619679 -0.00355312]\n"
     ]
    }
   ],
   "source": [
    "model = SVM(learning_rate=0.000001)\n",
    "model.fit(features_train, labels_train)\n",
    "print(model.weight)"
   ]
  },
  {
   "cell_type": "markdown",
   "metadata": {},
   "source": [
    "test accuracy"
   ]
  },
  {
   "cell_type": "code",
   "execution_count": 193,
   "metadata": {},
   "outputs": [
    {
     "data": {
      "text/plain": [
       "0.7237"
      ]
     },
     "execution_count": 193,
     "metadata": {},
     "output_type": "execute_result"
    }
   ],
   "source": [
    "model.score(features_test, labels_test)"
   ]
  },
  {
   "cell_type": "markdown",
   "metadata": {},
   "source": [
    "train accuracy"
   ]
  },
  {
   "cell_type": "code",
   "execution_count": 194,
   "metadata": {},
   "outputs": [
    {
     "data": {
      "text/plain": [
       "0.7448"
      ]
     },
     "execution_count": 194,
     "metadata": {},
     "output_type": "execute_result"
    }
   ],
   "source": [
    "model.score(features_train, labels_train)"
   ]
  },
  {
   "cell_type": "code",
   "execution_count": 195,
   "metadata": {},
   "outputs": [
    {
     "data": {
      "text/plain": [
       "(1000, 14)"
      ]
     },
     "execution_count": 195,
     "metadata": {},
     "output_type": "execute_result"
    }
   ],
   "source": [
    "model.array_weight.shape"
   ]
  },
  {
   "cell_type": "code",
   "execution_count": 196,
   "metadata": {},
   "outputs": [
    {
     "data": {
      "image/png": "[encoded data removed]",
      "text/plain": [
       "<Figure size 640x480 with 1 Axes>"
      ]
     },
     "metadata": {},
     "output_type": "display_data"
    }
   ],
   "source": [
    "# plot that is loss training data\n",
    "plt.plot(model.get_array_loss(features_train, labels_train), color=\"b\", label = \"loss_train\")\n",
    "# plot that is loss test data\n",
    "plt.plot(model.get_array_loss(features_test, labels_test), color=\"r\", label = \"loss_test\")\n",
    "plt.ylabel(\"loss\")\n",
    "plt.xlabel(\"the number of update weight\")\n",
    "plt.title(\"Loss function\")\n",
    "plt.legend()\n",
    "plt.show()"
   ]
  },
  {
   "cell_type": "code",
   "execution_count": 197,
   "metadata": {},
   "outputs": [],
   "source": [
    "# Model Selection\n",
    "class ModelSelection:\n",
    "    def __init__(self, features, labels , model):\n",
    "        self.features = features\n",
    "        self.labels = labels\n",
    "        self.model = model\n",
    "    "
   ]
  }
 ],
 "metadata": {
  "kernelspec": {
   "display_name": "base",
   "language": "python",
   "name": "python3"
  },
  "language_info": {
   "codemirror_mode": {
    "name": "ipython",
    "version": 3
   },
   "file_extension": ".py",
   "mimetype": "text/x-python",
   "name": "python",
   "nbconvert_exporter": "python",
   "pygments_lexer": "ipython3",
   "version": "3.11.7"
  }
 },
 "nbformat": 4,
 "nbformat_minor": 2
}
